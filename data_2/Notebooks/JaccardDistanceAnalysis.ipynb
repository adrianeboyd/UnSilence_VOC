{
 "cells": [
  {
   "cell_type": "code",
   "execution_count": 1,
   "id": "discrete-morocco",
   "metadata": {},
   "outputs": [],
   "source": [
    "import os\n",
    "from glob import glob\n",
    "\n",
    "import pandas as pd\n",
    "\n",
    "import matplotlib.pyplot as plt\n",
    "import seaborn as sns"
   ]
  },
  {
   "cell_type": "markdown",
   "id": "collaborative-draft",
   "metadata": {},
   "source": [
    "## Cleaning Up (& Stats About It)\n",
    "\n",
    "\n",
    " - For each annotator:\n",
    "   - How many annotation files?\n",
    "   - How many txt files?\n",
    "   - Number of empty .ann files\n",
    "   - How many non-empty .ann files have a `TranscriptionError_Document`/`DuplicatePage` tag?\n",
    "   - How many .ann files have ONLY one of those two tags and are empty o/w? -> remove if so\n",
    "   \n",
    "   => remove corresponding .txt files  \n",
    "   => create new corpus"
   ]
  },
  {
   "cell_type": "code",
   "execution_count": 2,
   "id": "resident-parking",
   "metadata": {},
   "outputs": [],
   "source": [
    "def get_all_files(annotator):\n",
    "    \"\"\" collapsing folder structure per annotator\"\"\"\n",
    "    data_dir = \"../Data/\"\n",
    "    ann_dir = data_dir+annotator+\"/\"\n",
    "    for cur_dir in glob(ann_dir+\"/6*\"):\n",
    "        txt_files = sorted(glob(cur_dir+\"/*.txt\"))\n",
    "        ann_files = sorted(glob(cur_dir+\"/*.ann\"))\n",
    "        yield from zip(txt_files, ann_files)\n",
    "        \n",
    "        \n",
    "def has_error_tag(any_string):\n",
    "    \"\"\"Return strings with error tags\"\"\"\n",
    "    return \"TranscriptionError_Document\" in any_string or\\\n",
    "                \"DuplicatePage\" in any_string\n",
    "\n",
    "\n",
    "def remove_error_tag_lines(ann_file_content):\n",
    "    return [line for line in ann_file_content.strip().split(\"\\n\") \n",
    "             if not has_error_tag(line)] "
   ]
  },
  {
   "cell_type": "code",
   "execution_count": 3,
   "id": "resident-colonial",
   "metadata": {},
   "outputs": [],
   "source": [
    "annotators = \"A  B  C  D E\".split()"
   ]
  },
  {
   "cell_type": "code",
   "execution_count": 4,
   "id": "commercial-discipline",
   "metadata": {},
   "outputs": [
    {
     "name": "stdout",
     "output_type": "stream",
     "text": [
      "Total Annotation Files Per Annotator\n",
      "\n",
      "A 983\n",
      "B 983\n",
      "C 1183\n",
      "D 983\n",
      "E 983\n"
     ]
    }
   ],
   "source": [
    "results = {}\n",
    "\n",
    "print(\"Total Annotation Files Per Annotator\\n\")\n",
    "for anno in annotators:\n",
    "    empty = []\n",
    "    cur_keep = []\n",
    "\n",
    "    error_tag = []\n",
    "    error_tag_but_non_empty = []\n",
    "\n",
    "    ann_files = list(get_all_files(anno))\n",
    "    print(anno, len(ann_files))\n",
    "\n",
    "    for txt, ann in ann_files:\n",
    "        with open(ann) as handle:\n",
    "            contents = handle.read()\n",
    "            \n",
    "            if not contents.strip():\n",
    "                empty.append((txt, ann))  \n",
    "            elif has_error_tag(contents):\n",
    "                \n",
    "                error_tags_removed = remove_error_tag_lines(\n",
    "                                contents\n",
    "                        )\n",
    "                \n",
    "                if error_tags_removed == []:\n",
    "                    error_tag.append((txt, ann))\n",
    "                else:\n",
    "                    error_tag_but_non_empty.append((txt, ann))                \n",
    "            else:\n",
    "                cur_keep.append((txt, ann))\n",
    "                \n",
    "    \n",
    "    results[anno] = [cur_keep, empty, error_tag, error_tag_but_non_empty]\n",
    "    "
   ]
  },
  {
   "cell_type": "code",
   "execution_count": 5,
   "id": "complex-leonard",
   "metadata": {},
   "outputs": [
    {
     "name": "stdout",
     "output_type": "stream",
     "text": [
      "           Total  Keep  Non-empty-No error  Empty  Error  Err.&Non-Empty\n",
      "Annotator                                                               \n",
      "A            983   333                 237    637     13              96\n",
      "B            983   321                 205    648     14             116\n",
      "C           1183   727                 449    294    162             278\n",
      "D            983   539                 263    346     98             276\n",
      "E            983   570                 253    388     25             317\n"
     ]
    }
   ],
   "source": [
    "from tabulate import tabulate\n",
    "\n",
    "stats = pd.DataFrame([\n",
    "    [k, sum(map(len, v))]+\n",
    "    [len(v[0])+len(v[-1])]+\n",
    "    list(map(len, v)) for k, v in results.items()\n",
    "    \n",
    "],\n",
    "columns=[\"Annotator\", \"Total\", \"Keep\",\n",
    "         \"Non-empty-No error\", \"Empty\", \"Error\", \"Err.&Non-Empty\"]).set_index(\"Annotator\")\n",
    "print(stats)"
   ]
  },
  {
   "cell_type": "code",
   "execution_count": 6,
   "id": "apparent-numbers",
   "metadata": {},
   "outputs": [
    {
     "data": {
      "text/plain": [
       "<AxesSubplot:xlabel='Annotator', ylabel='Number'>"
      ]
     },
     "execution_count": 6,
     "metadata": {},
     "output_type": "execute_result"
    },
    {
     "data": {
      "image/png": "[encoded data removed]",
      "text/plain": [
       "<Figure size 720x504 with 1 Axes>"
      ]
     },
     "metadata": {
      "needs_background": "light"
     },
     "output_type": "display_data"
    }
   ],
   "source": [
    "stats_T = pd.melt(stats[[\"Total\", \"Empty\", \"Keep\", \"Error\"]].reset_index(), \n",
    "                  id_vars=[\"Annotator\"], value_name=\"Number\")\n",
    "\n",
    "plt.figure(figsize=(10, 7))\n",
    "sns.barplot(data=stats_T, x='Annotator', y=\"Number\", hue=\"variable\")"
   ]
  },
  {
   "cell_type": "code",
   "execution_count": 7,
   "id": "surrounded-gentleman",
   "metadata": {},
   "outputs": [
    {
     "data": {
      "text/plain": [
       "{'A': 333, 'B': 321, 'C': 727, 'D': 539, 'E': 570}"
      ]
     },
     "execution_count": 7,
     "metadata": {},
     "output_type": "execute_result"
    }
   ],
   "source": [
    "keep = {anno: v[0]+v[-1] for anno, v in results.items()}\n",
    "\n",
    "{k: len(v) for k, v in keep.items()}"
   ]
  },
  {
   "cell_type": "code",
   "execution_count": 8,
   "id": "outstanding-workplace",
   "metadata": {},
   "outputs": [],
   "source": [
    "# keep"
   ]
  },
  {
   "cell_type": "markdown",
   "id": "statewide-cyprus",
   "metadata": {},
   "source": [
    "### Make New Corpus\n",
    "\n",
    "by copying files"
   ]
  },
  {
   "cell_type": "code",
   "execution_count": 9,
   "id": "marine-skiing",
   "metadata": {},
   "outputs": [
    {
     "name": "stdout",
     "output_type": "stream",
     "text": [
      "Already copied, doing nothing!\n"
     ]
    }
   ],
   "source": [
    "from shutil import copy2\n",
    "\n",
    "already_copied = True\n",
    "\n",
    "if not already_copied:\n",
    "    from tqdm import tqdm \n",
    "    os.makedirs('Keep')\n",
    "\n",
    "    for anno, ls in tqdm(keep.items()):\n",
    "        cur_dir = f\"Keep/{anno}\"\n",
    "        os.makedirs(cur_dir)\n",
    "\n",
    "        for txt, ann in ls:\n",
    "            copy2(txt, cur_dir)\n",
    "            copy2(ann, cur_dir)\n",
    "else:\n",
    "    print(\"Already copied, doing nothing!\")"
   ]
  },
  {
   "cell_type": "markdown",
   "id": "driving-orlando",
   "metadata": {},
   "source": [
    "# Pairwise Intersections of Annotation Files"
   ]
  },
  {
   "cell_type": "code",
   "execution_count": 10,
   "id": "vocal-crest",
   "metadata": {},
   "outputs": [],
   "source": [
    "def only_names(file_list):\n",
    "    \"returns only names of files in a particular list\"\n",
    "    return [ann.split(\"/\")[-1] for txt, ann in file_list]\n",
    "\n",
    "\n",
    "ls = []\n",
    "for a1, fs1 in keep.items():\n",
    "    for a2, fs2 in keep.items():\n",
    "        if not a1 == a2:\n",
    "            \n",
    "            names1, names2 = only_names(fs1), only_names(fs2)\n",
    "            inter = set(names1) & set(names2) #names of files are identical\n",
    "            val = len(inter)/len(names1)\n",
    "            \n",
    "            total_names1 = only_names(tup for ls in results[a1] for tup in ls)\n",
    "            total_names2 = only_names(tup for ls in results[a2] for tup in ls)\n",
    "            \n",
    "            total_inter = set(total_names1) & set(total_names2)\n",
    "            total_val = len(total_inter)/len(total_names1)\n",
    "    \n",
    "            jacc_val = len(set(names1).intersection(set(names2)))/len(set(names1).union(set(names2)))\n",
    "            jacc_val_2 = len(set(total_names1).intersection(set(total_names2)))/len(set(total_names1).union(set(total_names2)))\n",
    "            \n",
    "            \n",
    "            \n",
    "            ls.append([a1, a2, len(inter), val, \n",
    "                       len(total_inter), total_val, jacc_val, jacc_val_2])\n",
    "            \n",
    "            \n",
    "inter_stats = pd.DataFrame(ls, \n",
    "                           columns=[\"Annotator1\", \"Annotator2\", \n",
    "                                    \"Intersection\", \"normed_Intersection\",\n",
    "                                   \"total_Intersection\", \"total_normed_Intersection\", \"Jaccard_distance\", \"Jaccard_Distance_2\"])"
   ]
  },
  {
   "cell_type": "code",
   "execution_count": 11,
   "id": "gross-charter",
   "metadata": {},
   "outputs": [],
   "source": [
    "# inter_stats"
   ]
  },
  {
   "cell_type": "markdown",
   "id": "handy-round",
   "metadata": {},
   "source": [
    "#### Jaccard Distance to Understand Overlap Pages between Annotators"
   ]
  },
  {
   "cell_type": "code",
   "execution_count": 12,
   "id": "insured-flash",
   "metadata": {},
   "outputs": [
    {
     "data": {
      "image/png": "[encoded data removed]",
      "text/plain": [
       "<Figure size 432x288 with 2 Axes>"
      ]
     },
     "metadata": {
      "needs_background": "light"
     },
     "output_type": "display_data"
    }
   ],
   "source": [
    "import numpy as np \n",
    "# inter_stats_T = inter_stats.pivot_table(\n",
    "#                 values=\"Jaccard_distance\",\n",
    "#     index=\"Annotator1\", columns=\"Annotator2\"\n",
    "# )\n",
    "\n",
    "# sns.heatmap(inter_stats_T*100, annot=True, cmap=\"YlGnBu\")\n",
    "# _ = plt.title(\"Before Clean Up: Jaccard Distance (percentage)\")\n",
    "\n",
    "# plt.show()\n",
    "\n",
    "inter_stats_T = inter_stats.pivot_table(\n",
    "                values=\"Jaccard_Distance_2\",\n",
    "    index=\"Annotator1\", columns=\"Annotator2\"\n",
    ")\n",
    "\n",
    "matrix = np.triu(inter_stats_T)\n",
    "sns.heatmap(inter_stats_T*100, annot=True, cmap=\"YlGnBu\", mask=matrix)\n",
    "_ = plt.title(\"\")\n",
    "plt.yticks(rotation=0) \n",
    "plt.savefig('AnnotationOverlap.png')\n",
    "plt.show()\n",
    "\n",
    "\n",
    "# inter_stats_T = inter_stats.pivot_table(\n",
    "#                 values=\"Intersection\",\n",
    "#     index=\"Anno1\", columns=\"Anno2\"\n",
    "# )\n",
    "\n",
    "# sns.heatmap(inter_stats_T, \n",
    "#             annot=True, cmap=\"YlGnBu\")\n",
    "\n",
    "# _ = plt.title(\"Before Clean Up: Raw Counts\")"
   ]
  },
  {
   "cell_type": "markdown",
   "id": "developing-monkey",
   "metadata": {},
   "source": [
    "**Conclusion**: Each pair of annotators annotated on average have 6% overlap (over the total documents they annotated together)."
   ]
  },
  {
   "cell_type": "markdown",
   "id": "latin-omaha",
   "metadata": {},
   "source": [
    "## Check Tag Distributions"
   ]
  },
  {
   "cell_type": "code",
   "execution_count": 13,
   "id": "verified-emission",
   "metadata": {},
   "outputs": [],
   "source": [
    "def get_lines(ann_file):\n",
    "    with open(ann_file) as handle:\n",
    "        for l in handle:\n",
    "            if not l.strip(): continue\n",
    "            yield l.strip().split(\"\\t\")\n",
    "\n",
    "def get_entities(ann_file):\n",
    "    for line in get_lines(ann_file):\n",
    "        if line[0].startswith(\"T\") and len(line) >= 2:\n",
    "            tag_type, tag, string = line\n",
    "            yield tag.split()[0]\n",
    "\n",
    "\n",
    "        \n",
    "ents = {a: [e for txt, ann in files for e in get_entities(ann)]\n",
    "       for a, files in keep.items()}"
   ]
  },
  {
   "cell_type": "code",
   "execution_count": 14,
   "id": "christian-album",
   "metadata": {},
   "outputs": [
    {
     "data": {
      "image/png": "[encoded data removed]",
      "text/plain": [
       "<Figure size 720x504 with 1 Axes>"
      ]
     },
     "metadata": {
      "needs_background": "light"
     },
     "output_type": "display_data"
    }
   ],
   "source": [
    "from collections import Counter\n",
    "\n",
    "entity_stats = pd.DataFrame(\n",
    "    [[a, e, c] for a in ents for e, c in Counter(ents[a]).items() if not e in [\"DuplicatePage\", \"Noteworthy\", \"TranscriptionError_Document\"]],\n",
    "    columns=[\"Annotator\", \"EntityType\", \"Count\"]\n",
    ")\n",
    "\n",
    "\n",
    "\n",
    "plt.figure(figsize=(10, 7))\n",
    "_ = sns.barplot(data=entity_stats, x='Annotator', y=\"Count\", hue=\"EntityType\")"
   ]
  },
  {
   "cell_type": "markdown",
   "id": "decimal-union",
   "metadata": {},
   "source": [
    "**Conclusion**: \n",
    "Here we see that most annotators follow a similar trend in entities annotated, only annotator who stands out is '3'."
   ]
  },
  {
   "cell_type": "code",
   "execution_count": null,
   "id": "polyphonic-cleveland",
   "metadata": {},
   "outputs": [],
   "source": []
  }
 ],
 "metadata": {
  "kernelspec": {
   "display_name": "Python 3",
   "language": "python",
   "name": "python3"
  },
  "language_info": {
   "codemirror_mode": {
    "name": "ipython",
    "version": 3
   },
   "file_extension": ".py",
   "mimetype": "text/x-python",
   "name": "python",
   "nbconvert_exporter": "python",
   "pygments_lexer": "ipython3",
   "version": "3.7.10"
  }
 },
 "nbformat": 4,
 "nbformat_minor": 5
}
