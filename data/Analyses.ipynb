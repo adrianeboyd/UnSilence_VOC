{
 "cells": [
  {
   "cell_type": "code",
   "execution_count": 1,
   "id": "substantial-saver",
   "metadata": {},
   "outputs": [],
   "source": [
    "from tqdm import tqdm\n",
    "import os\n",
    "from glob import glob\n",
    "\n",
    "import pandas as pd\n",
    "\n",
    "import matplotlib.pyplot as plt\n",
    "import seaborn as sns"
   ]
  },
  {
   "cell_type": "code",
   "execution_count": 2,
   "id": "manufactured-mining",
   "metadata": {},
   "outputs": [],
   "source": [
    "data_dir = \"annotated_data\"\n",
    "\n",
    "def to_keep(ID):\n",
    "    first = ID[0] in {\"A\", \"T\"}\n",
    "    try:\n",
    "        int(ID[1])\n",
    "        return first\n",
    "    except ValueError:\n",
    "        return False\n",
    "\n",
    "def parse_middle(row):\n",
    "    if row.name[1].startswith(\"T\"):\n",
    "        ent_type, span = row.middle.split(\" \", 1)\n",
    "        return {\"entity_type\": ent_type, \"span\": span}\n",
    "    else:\n",
    "        keys = [\"attr_type\", \"attr_ref\", \"attr_val\"]\n",
    "        return dict(zip(keys, str(row.middle).split()))\n",
    "\n",
    "def df_from_ann_file(f):\n",
    "    df = pd.read_csv(f, sep=\"\\t\", header=None, \n",
    "                         names=[\"ID\", \"middle\", \"entity_name\"])\n",
    "    df = df[df.ID.apply(to_keep)]\n",
    "    df[\"file\"] = f\n",
    "    df = df.set_index([\"file\", \"ID\"])\n",
    "    mdf = pd.DataFrame.from_records(df.apply(parse_middle, axis=\"columns\")).set_index(df.index)\n",
    "\n",
    "    return df.join(mdf).drop(\"middle\", axis=1)\n",
    "    return pd.concat([df, mdf], axis=1)\n"
   ]
  },
  {
   "cell_type": "code",
   "execution_count": 3,
   "id": "excessive-article",
   "metadata": {},
   "outputs": [
    {
     "name": "stderr",
     "output_type": "stream",
     "text": [
      "annotated_data/D/NL-HaNA_1.04.02_6853_0097.ann: 100%|█| 2199/2199 [00:18<00:00, \n"
     ]
    }
   ],
   "source": [
    "done = set()\n",
    "\n",
    "dfs = []\n",
    "pbar = tqdm(set(glob(f\"{data_dir}/*/*.ann\")))\n",
    "for f in pbar:\n",
    "    pbar.set_description(f)\n",
    "    file = f.split(\"/\")[-1]\n",
    "    if file in done:\n",
    "        continue\n",
    "    done.add(file)    \n",
    "    df = df_from_ann_file(f)\n",
    "    \n",
    "    dfs.append(df)"
   ]
  },
  {
   "cell_type": "code",
   "execution_count": 5,
   "id": "invisible-behavior",
   "metadata": {},
   "outputs": [],
   "source": [
    "big = pd.concat(dfs)"
   ]
  },
  {
   "cell_type": "code",
   "execution_count": 6,
   "id": "thirty-ecology",
   "metadata": {},
   "outputs": [],
   "source": [
    "def barplot(x, y, rotation=0):\n",
    "    plt.figure(figsize=(8, 8))\n",
    "    plt.bar(x, y)\n",
    "    # plt.plot(x, y, \".\", )\n",
    "    for cur_x, cur_y in zip(x, y): plt.annotate(round(cur_y, 3), (cur_x, cur_y+0.01))\n",
    "    _ = plt.xticks(x, y.index, rotation=rotation)\n",
    "    plt.ylim((0, 1))\n",
    "    plt.show()"
   ]
  },
  {
   "cell_type": "code",
   "execution_count": 7,
   "id": "incorporated-substitute",
   "metadata": {},
   "outputs": [
    {
     "name": "stdout",
     "output_type": "stream",
     "text": [
      "1. # unique pages annotated:\t2139\n"
     ]
    }
   ],
   "source": [
    "print(f\"1. # unique pages annotated:\\t{len(done)}\")"
   ]
  },
  {
   "cell_type": "code",
   "execution_count": 8,
   "id": "rural-pathology",
   "metadata": {},
   "outputs": [
    {
     "name": "stdout",
     "output_type": "stream",
     "text": [
      "3.1 # of annotations (= # rows in table):\t68451\n",
      "3.1 # of entity annotations (= # rows in table starting with 'T'):\t32204\n",
      "3.1 # of attribute annotations\t36247\n"
     ]
    }
   ],
   "source": [
    "print(f\"3.1 # of annotations (= # rows in table):\\t{big.shape[0]}\")\n",
    "n = big[big.index.get_level_values(1).str.startswith(\"T\")].shape[0]\n",
    "print(f\"3.1 # of entity annotations (= # rows in table starting with 'T'):\\t{n}\")\n",
    "print(f\"3.1 # of attribute annotations\\t{big.shape[0] - n}\")"
   ]
  },
  {
   "cell_type": "code",
   "execution_count": 9,
   "id": "greater-shooting",
   "metadata": {},
   "outputs": [
    {
     "name": "stdout",
     "output_type": "stream",
     "text": [
      "3.2 # tokens(!) in entity names:\t79771\n"
     ]
    }
   ],
   "source": [
    "# print(f\"# spans:\\t{(~big.span.isna()).sum()}\")\n",
    "\n",
    "print(f\"3.2 # tokens(!) in entity names:\\t{big.entity_name.fillna('').str.split().apply(len).sum()}\")"
   ]
  },
  {
   "cell_type": "code",
   "execution_count": 10,
   "id": "mineral-south",
   "metadata": {},
   "outputs": [
    {
     "name": "stdout",
     "output_type": "stream",
     "text": [
      "\n",
      "3.3 NUMBER OF ENTITIES PER TYPE\n",
      "entity_type\n",
      "Organization     1080\n",
      "Person          11722\n",
      "Place            4506\n",
      "ProperName      14896\n",
      "dtype: int64\n",
      "\n",
      "3.3 PERCENTAGE OF ENTITIES OF TYPE\n",
      "entity_type\n",
      "Organization    0.033536\n",
      "Person          0.363992\n",
      "Place           0.139921\n",
      "ProperName      0.462551\n",
      "dtype: float64\n"
     ]
    },
    {
     "data": {
      "image/png": "[encoded data removed]",
      "text/plain": [
       "<Figure size 576x576 with 1 Axes>"
      ]
     },
     "metadata": {
      "needs_background": "light"
     },
     "output_type": "display_data"
    },
    {
     "name": "stdout",
     "output_type": "stream",
     "text": [
      "\n",
      "3.4 NUMBER OF TOKENS PER ENTITY TYPE\n",
      "entity_type\n",
      "Organization     4636\n",
      "Person          32619\n",
      "Place           10145\n",
      "ProperName      32371\n",
      "dtype: int64\n",
      "\n",
      "3.4 AVERAGE NUMBER OF TOKENS OF EACH ENTITY PER ENTITY TYPE\n",
      "entity_type\n",
      "Organization    4.292593\n",
      "Person          2.782716\n",
      "Place           2.251443\n",
      "ProperName      2.173134\n",
      "dtype: float64\n"
     ]
    }
   ],
   "source": [
    "ns = big.groupby(\"entity_type\").apply(lambda sub: (~sub.span.isna()).sum())\n",
    "\n",
    "print(\"\\n3.3 number of entities per type\".upper())\n",
    "print(ns)\n",
    "print()\n",
    "# print(big.groupby(\"entity_type\").apply(lambda sub: (~sub.span.isna()).sum())/sub.shape[0])\n",
    "print(\"3.3 percentage of entities of type\".upper())\n",
    "print((ns/ns.sum()))\n",
    "\n",
    "# x, y = [1,2,3, 4], (ns/ns.sum())\n",
    "# plt.figure(figsize=(8, 8))\n",
    "# plt.bar(x, y)\n",
    "# # plt.plot(x, y, \".\", )\n",
    "# for cur_x, cur_y in zip(x, y): plt.annotate(round(cur_y, 3), (cur_x, cur_y+0.01))\n",
    "# _ = plt.xticks(x, y.index)\n",
    "# plt.ylim((0, 1))\n",
    "# plt.show()\n",
    "\n",
    "barplot([1,2,3, 4], (ns/ns.sum()))\n",
    "\n",
    "\n",
    "\n",
    "ns_toks = big.groupby(\"entity_type\").apply(lambda sub:\n",
    "                                     sub.entity_name.fillna('').str.split().apply(len).sum())\n",
    "\n",
    "print(\"\\n3.4 number of tokens per entity type\".upper())\n",
    "print(ns_toks)\n",
    "print(\"\\n3.4 average number of tokens of each entity per entity type\".upper())\n",
    "print(ns_toks/ns)"
   ]
  },
  {
   "cell_type": "code",
   "execution_count": 12,
   "id": "sporting-diary",
   "metadata": {},
   "outputs": [
    {
     "name": "stdout",
     "output_type": "stream",
     "text": [
      "4. BENEFICIARY\n",
      "No     918\n",
      "Yes    163\n",
      "Name: attr_val, dtype: int64\n",
      "\n",
      "No     0.849214\n",
      "Yes    0.150786\n",
      "Name: attr_val, dtype: float64\n"
     ]
    },
    {
     "data": {
      "image/png": "[encoded data removed]",
      "text/plain": [
       "<Figure size 576x576 with 1 Axes>"
      ]
     },
     "metadata": {
      "needs_background": "light"
     },
     "output_type": "display_data"
    },
    {
     "name": "stdout",
     "output_type": "stream",
     "text": [
      "\n",
      "4. GENDER\n",
      "Unspecified    5768\n",
      "Man            4298\n",
      "Woman          1234\n",
      "Group           422\n",
      "Name: attr_val, dtype: int64\n",
      "\n",
      "Unspecified    0.492066\n",
      "Man            0.366661\n",
      "Woman          0.105272\n",
      "Group          0.036001\n",
      "Name: attr_val, dtype: float64\n"
     ]
    },
    {
     "data": {
      "image/png": "[encoded data removed]",
      "text/plain": [
       "<Figure size 576x576 with 1 Axes>"
      ]
     },
     "metadata": {
      "needs_background": "light"
     },
     "output_type": "display_data"
    },
    {
     "name": "stdout",
     "output_type": "stream",
     "text": [
      "\n",
      "4. LEGALSTATUS\n",
      "Unspecified    10680\n",
      "Enslaved         887\n",
      "Freed            155\n",
      "Name: attr_val, dtype: int64\n",
      "\n",
      "Unspecified    0.911107\n",
      "Enslaved       0.075670\n",
      "Freed          0.013223\n",
      "Name: attr_val, dtype: float64\n"
     ]
    },
    {
     "data": {
      "image/png": "[encoded data removed]",
      "text/plain": [
       "<Figure size 576x576 with 1 Axes>"
      ]
     },
     "metadata": {
      "needs_background": "light"
     },
     "output_type": "display_data"
    },
    {
     "name": "stdout",
     "output_type": "stream",
     "text": [
      "\n",
      "4. ROLE\n",
      "Other                   5939\n",
      "Beneficiary             1827\n",
      "Testator                1289\n",
      "Witness                 1117\n",
      "Acting_Notary            801\n",
      "Notary                   473\n",
      "Testator_Beneficiary     276\n",
      "Name: attr_val, dtype: int64\n",
      "\n",
      "Other                   0.506654\n",
      "Beneficiary             0.155861\n",
      "Testator                0.109964\n",
      "Witness                 0.095291\n",
      "Acting_Notary           0.068333\n",
      "Notary                  0.040351\n",
      "Testator_Beneficiary    0.023545\n",
      "Name: attr_val, dtype: float64\n"
     ]
    },
    {
     "data": {
      "image/png": "[encoded data removed]",
      "text/plain": [
       "<Figure size 576x576 with 1 Axes>"
      ]
     },
     "metadata": {
      "needs_background": "light"
     },
     "output_type": "display_data"
    },
    {
     "name": "stdout",
     "output_type": "stream",
     "text": [
      "\n"
     ]
    }
   ],
   "source": [
    "for at, sub in big.groupby(\"attr_type\"):\n",
    "    print(f\"4. {at.upper()}\")\n",
    "    cs = sub.attr_val.value_counts()\n",
    "    print(cs)\n",
    "    print()\n",
    "    print(cs/cs.sum())\n",
    "    \n",
    "    barplot(list(range(1, cs.shape[0]+1)),\n",
    "           cs/cs.sum(), rotation=(360-35 if cs.shape[0] > 6 else 0))\n",
    "    \n",
    "    print()\n",
    "#     sub.attr_val.hist(bins=20)\n",
    "#     plt.title(at)\n",
    "#     plt.show()\n",
    "\n",
    "\n",
    "# big[big.attr_type == \"Role\"].attr_val.value_counts()"
   ]
  },
  {
   "cell_type": "code",
   "execution_count": null,
   "id": "cultural-reunion",
   "metadata": {},
   "outputs": [],
   "source": []
  }
 ],
 "metadata": {
  "kernelspec": {
   "display_name": "Python 3 (ipykernel)",
   "language": "python",
   "name": "python3"
  },
  "language_info": {
   "codemirror_mode": {
    "name": "ipython",
    "version": 3
   },
   "file_extension": ".py",
   "mimetype": "text/x-python",
   "name": "python",
   "nbconvert_exporter": "python",
   "pygments_lexer": "ipython3",
   "version": "3.8.8"
  }
 },
 "nbformat": 4,
 "nbformat_minor": 5
}
