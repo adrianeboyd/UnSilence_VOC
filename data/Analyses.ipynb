{
 "cells": [
  {
   "cell_type": "code",
   "execution_count": 1,
   "id": "racial-process",
   "metadata": {},
   "outputs": [],
   "source": [
    "from tqdm import tqdm\n",
    "import os\n",
    "from glob import glob\n",
    "\n",
    "import pandas as pd\n",
    "\n",
    "import matplotlib.pyplot as plt\n",
    "import seaborn as sns"
   ]
  },
  {
   "cell_type": "code",
   "execution_count": 2,
   "id": "built-dublin",
   "metadata": {},
   "outputs": [],
   "source": [
    "data_dir = \"annotated_data\"\n",
    "\n",
    "def to_keep(ID):\n",
    "    first = ID[0] in {\"A\", \"T\"}\n",
    "    try:\n",
    "        int(ID[1])\n",
    "        return first\n",
    "    except ValueError:\n",
    "        return False\n",
    "\n",
    "def parse_middle(row):\n",
    "    if row.name[1].startswith(\"T\"):\n",
    "        ent_type, span = row.middle.split(\" \", 1)\n",
    "        return {\"entity_type\": ent_type, \"span\": span}\n",
    "    else:\n",
    "        keys = [\"attr_type\", \"attr_ref\", \"attr_val\"]\n",
    "        return dict(zip(keys, str(row.middle).split()))\n",
    "\n",
    "def df_from_ann_file(f):\n",
    "    df = pd.read_csv(f, sep=\"\\t\", header=None, \n",
    "                         names=[\"ID\", \"middle\", \"entity_name\"])\n",
    "    df = df[df.ID.apply(to_keep)]\n",
    "    df[\"file\"] = f\n",
    "    df = df.set_index([\"file\", \"ID\"])\n",
    "    mdf = pd.DataFrame.from_records(df.apply(parse_middle, axis=\"columns\")).set_index(df.index)\n",
    "\n",
    "    return df.join(mdf).drop(\"middle\", axis=1)\n",
    "    return pd.concat([df, mdf], axis=1)\n"
   ]
  },
  {
   "cell_type": "code",
   "execution_count": 3,
   "id": "junior-fantasy",
   "metadata": {},
   "outputs": [
    {
     "name": "stderr",
     "output_type": "stream",
     "text": [
      "annotated_data/E/NL-HaNA_1.04.02_6869_0081.ann: 100%|█| 2199/2199 [00:18<00:00, \n"
     ]
    }
   ],
   "source": [
    "done = set()\n",
    "\n",
    "dfs = []\n",
    "pbar = tqdm(set(glob(f\"{data_dir}/*/*.ann\")))\n",
    "for f in pbar:\n",
    "    pbar.set_description(f)\n",
    "    file = f.split(\"/\")[-1]\n",
    "    if file in done:\n",
    "        continue\n",
    "    done.add(file)    \n",
    "    df = df_from_ann_file(f)\n",
    "    \n",
    "    dfs.append(df)"
   ]
  },
  {
   "cell_type": "code",
   "execution_count": 4,
   "id": "revolutionary-clark",
   "metadata": {},
   "outputs": [
    {
     "ename": "NameError",
     "evalue": "name 'filter_df' is not defined",
     "output_type": "error",
     "traceback": [
      "\u001b[0;31m---------------------------------------------------------------------------\u001b[0m",
      "\u001b[0;31mNameError\u001b[0m                                 Traceback (most recent call last)",
      "\u001b[0;32m/var/folders/ng/ytjv1yf9043dlh66vwhtgr300000gn/T/ipykernel_34197/2818237082.py\u001b[0m in \u001b[0;36m<module>\u001b[0;34m\u001b[0m\n\u001b[1;32m      1\u001b[0m \u001b[0mbig\u001b[0m \u001b[0;34m=\u001b[0m \u001b[0mpd\u001b[0m\u001b[0;34m.\u001b[0m\u001b[0mconcat\u001b[0m\u001b[0;34m(\u001b[0m\u001b[0mdfs\u001b[0m\u001b[0;34m)\u001b[0m\u001b[0;34m\u001b[0m\u001b[0;34m\u001b[0m\u001b[0m\n\u001b[0;32m----> 2\u001b[0;31m \u001b[0mbig\u001b[0m \u001b[0;34m=\u001b[0m \u001b[0mfilter_df\u001b[0m\u001b[0;34m(\u001b[0m\u001b[0mbig\u001b[0m\u001b[0;34m)\u001b[0m\u001b[0;34m\u001b[0m\u001b[0;34m\u001b[0m\u001b[0m\n\u001b[0m",
      "\u001b[0;31mNameError\u001b[0m: name 'filter_df' is not defined"
     ]
    }
   ],
   "source": [
    "big = pd.concat(dfs)\n",
    "big = filter_df(big)"
   ]
  },
  {
   "cell_type": "code",
   "execution_count": null,
   "id": "approved-ethics",
   "metadata": {},
   "outputs": [],
   "source": [
    "# Organisation needs attr Beneficiary\n",
    "    \n",
    "def is_bad_org(t, sub_df):\n",
    "    atts = sub_df[sub_df.attr_ref == t]\n",
    "    return atts[atts.attr_type == \"Beneficiary\"].shape[0] == 0\n",
    "\n",
    "ls = []\n",
    "for file, sub in tqdm(big.groupby(level=0)):    \n",
    "    orgs = sub[sub.entity_type == \"Organization\"]\n",
    "    for (file2, row_id), r in orgs.iterrows():\n",
    "        bad  = is_bad_org(row_id, sub)\n",
    "        if bad:\n",
    "            sub = sub.drop((file2, row_id))\n",
    "        else:\n",
    "            print(file, sub.shape)\n",
    "        \n",
    "    ls.append(sub)\n",
    "new_big = pd.concat(ls)"
   ]
  },
  {
   "cell_type": "code",
   "execution_count": null,
   "id": "temporal-studio",
   "metadata": {},
   "outputs": [],
   "source": [
    "# Person needs Role AND LegalStatus AND Gender\n",
    "    \n",
    "def is_bad_pers(t, sub_df):\n",
    "    atts = sub_df[sub_df.attr_ref == t]\n",
    "    return (atts[atts.attr_type == \"Gender\"].shape[0] == 0 or\n",
    "            atts[atts.attr_type == \"Role\"].shape[0] == 0 or\n",
    "            atts[atts.attr_type == \"LegalStatus\"].shape[0] == 0)\n",
    "\n",
    "ls = []\n",
    "for file, sub in tqdm(new_big.groupby(level=0)):    \n",
    "    pers = sub[sub.entity_type == \"Person\"]\n",
    "    for (file2, row_id), r in pers.iterrows():\n",
    "        bad  = is_bad_pers(row_id, sub)\n",
    "        if bad:\n",
    "            sub = sub.drop((file2, row_id))\n",
    "            \n",
    "            have_this_id = sub[sub.attr_ref == row_id]\n",
    "            sub = sub.drop(have_this_id.index)\n",
    "        else:\n",
    "            pass\n",
    "#             print(file, sub.shape)\n",
    "        \n",
    "    ls.append(sub)\n",
    "new_big = pd.concat(ls)"
   ]
  },
  {
   "cell_type": "code",
   "execution_count": null,
   "id": "surgical-tennessee",
   "metadata": {},
   "outputs": [],
   "source": [
    "big = new_big"
   ]
  },
  {
   "cell_type": "code",
   "execution_count": null,
   "id": "italian-wilderness",
   "metadata": {},
   "outputs": [],
   "source": [
    "def barplot(x, y, rotation=0):\n",
    "    plt.figure(figsize=(8, 8))\n",
    "    plt.bar(x, y)\n",
    "    # plt.plot(x, y, \".\", )\n",
    "    for cur_x, cur_y in zip(x, y): plt.annotate(round(cur_y, 3), (cur_x, cur_y+0.01))\n",
    "    _ = plt.xticks(x, y.index, rotation=rotation)\n",
    "    plt.ylim((0, 1))\n",
    "    plt.show()"
   ]
  },
  {
   "cell_type": "code",
   "execution_count": null,
   "id": "sized-lexington",
   "metadata": {},
   "outputs": [],
   "source": [
    "print(f\"1. # unique pages annotated:\\t{len(done)}\")"
   ]
  },
  {
   "cell_type": "code",
   "execution_count": null,
   "id": "streaming-april",
   "metadata": {},
   "outputs": [],
   "source": [
    "print(f\"3.1 # of annotations (= # rows in table):\\t{big.shape[0]}\")\n",
    "n = big[big.index.get_level_values(1).str.startswith(\"T\")].shape[0]\n",
    "print(f\"3.1 # of entity annotations (= # rows in table starting with 'T'):\\t{n}\")\n",
    "print(f\"3.1 # of attribute annotations\\t{big.shape[0] - n}\")"
   ]
  },
  {
   "cell_type": "code",
   "execution_count": null,
   "id": "changing-disposal",
   "metadata": {},
   "outputs": [],
   "source": [
    "# print(f\"# spans:\\t{(~big.span.isna()).sum()}\")\n",
    "\n",
    "print(f\"3.2 # tokens(!) in entity names:\\t{big.entity_name.fillna('').str.split().apply(len).sum()}\")"
   ]
  },
  {
   "cell_type": "code",
   "execution_count": null,
   "id": "valid-teaching",
   "metadata": {},
   "outputs": [],
   "source": [
    "ns = big.groupby(\"entity_type\").apply(lambda sub: (~sub.span.isna()).sum())\n",
    "\n",
    "print(\"\\n3.3 number of entities per type\".upper())\n",
    "print(ns)\n",
    "print()\n",
    "# print(big.groupby(\"entity_type\").apply(lambda sub: (~sub.span.isna()).sum())/sub.shape[0])\n",
    "print(\"3.3 percentage of entities of type\".upper())\n",
    "print((ns/ns.sum()))\n",
    "\n",
    "# x, y = [1,2,3, 4], (ns/ns.sum())\n",
    "# plt.figure(figsize=(8, 8))\n",
    "# plt.bar(x, y)\n",
    "# # plt.plot(x, y, \".\", )\n",
    "# for cur_x, cur_y in zip(x, y): plt.annotate(round(cur_y, 3), (cur_x, cur_y+0.01))\n",
    "# _ = plt.xticks(x, y.index)\n",
    "# plt.ylim((0, 1))\n",
    "# plt.show()\n",
    "\n",
    "barplot([1,2,3, 4], (ns/ns.sum()))\n",
    "\n",
    "\n",
    "\n",
    "ns_toks = big.groupby(\"entity_type\").apply(lambda sub:\n",
    "                                     sub.entity_name.fillna('').str.split().apply(len).sum())\n",
    "\n",
    "print(\"\\n3.4 number of tokens per entity type\".upper())\n",
    "print(ns_toks)\n",
    "print(\"\\n3.4 average number of tokens of each entity per entity type\".upper())\n",
    "print(ns_toks/ns)"
   ]
  },
  {
   "cell_type": "code",
   "execution_count": null,
   "id": "brave-palestinian",
   "metadata": {},
   "outputs": [],
   "source": [
    "for at, sub in big.groupby(\"attr_type\"):\n",
    "    print(f\"4. {at.upper()}\")\n",
    "    cs = sub.attr_val.value_counts()\n",
    "    print(cs)\n",
    "    print()\n",
    "    print(cs/cs.sum())\n",
    "    \n",
    "    barplot(list(range(1, cs.shape[0]+1)),\n",
    "           cs/cs.sum(), rotation=(360-35 if cs.shape[0] > 6 else 0))\n",
    "    \n",
    "    print()\n",
    "#     sub.attr_val.hist(bins=20)\n",
    "#     plt.title(at)\n",
    "#     plt.show()\n",
    "\n",
    "\n",
    "# big[big.attr_type == \"Role\"].attr_val.value_counts()"
   ]
  }
 ],
 "metadata": {
  "kernelspec": {
   "display_name": "Python 3 (ipykernel)",
   "language": "python",
   "name": "python3"
  },
  "language_info": {
   "codemirror_mode": {
    "name": "ipython",
    "version": 3
   },
   "file_extension": ".py",
   "mimetype": "text/x-python",
   "name": "python",
   "nbconvert_exporter": "python",
   "pygments_lexer": "ipython3",
   "version": "3.8.8"
  }
 },
 "nbformat": 4,
 "nbformat_minor": 5
}
