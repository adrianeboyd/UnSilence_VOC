{
 "cells": [
  {
   "cell_type": "code",
   "execution_count": 23,
   "id": "stuffed-duncan",
   "metadata": {},
   "outputs": [],
   "source": [
    "from tqdm import tqdm\n",
    "import os\n",
    "from glob import glob\n",
    "\n",
    "import pandas as pd\n",
    "\n",
    "import matplotlib.pyplot as plt\n",
    "import seaborn as sns"
   ]
  },
  {
   "cell_type": "code",
   "execution_count": 24,
   "id": "former-integral",
   "metadata": {},
   "outputs": [],
   "source": [
    "data_dir = \"../annotated_data\"\n",
    "\n",
    "def to_keep(ID):\n",
    "    first = ID[0] in {\"A\", \"T\"}\n",
    "    try:\n",
    "        int(ID[1])\n",
    "        return first\n",
    "    except ValueError:\n",
    "        return False\n",
    "\n",
    "def parse_middle(row):\n",
    "    if row.name[1].startswith(\"T\"):\n",
    "        ent_type, span = row.middle.split(\" \", 1)\n",
    "        return {\"entity_type\": ent_type, \"span\": span}\n",
    "    else:\n",
    "        keys = [\"attr_type\", \"attr_ref\", \"attr_val\"]\n",
    "        return dict(zip(keys, str(row.middle).split()))\n",
    "\n",
    "def df_from_ann_file(f):\n",
    "    df = pd.read_csv(f, sep=\"\\t\", header=None, \n",
    "                         names=[\"ID\", \"middle\", \"entity_name\"])\n",
    "    df = df[df.ID.apply(to_keep)]\n",
    "    df[\"file\"] = f\n",
    "    df = df.set_index([\"file\", \"ID\"])\n",
    "    mdf = pd.DataFrame.from_records(df.apply(parse_middle, axis=\"columns\")).set_index(df.index)\n",
    "\n",
    "    return df.join(mdf).drop(\"middle\", axis=1)\n",
    "    return pd.concat([df, mdf], axis=1)\n"
   ]
  },
  {
   "cell_type": "code",
   "execution_count": 25,
   "id": "informational-tournament",
   "metadata": {},
   "outputs": [
    {
     "name": "stderr",
     "output_type": "stream",
     "text": [
      "../annotated_data/E/NL-HaNA_1.04.02_6848_0170.ann: 100%|█| 2199/2199 [00:18<00:0\n"
     ]
    }
   ],
   "source": [
    "done = set()\n",
    "\n",
    "dfs = []\n",
    "pbar = tqdm(set(glob(f\"{data_dir}/*/*.ann\")))\n",
    "for f in pbar:\n",
    "    pbar.set_description(f)\n",
    "    file = f.split(\"/\")[-1]\n",
    "    if file in done:\n",
    "        continue\n",
    "    done.add(file)    \n",
    "    df = df_from_ann_file(f)\n",
    "    \n",
    "    dfs.append(df)"
   ]
  },
  {
   "cell_type": "code",
   "execution_count": 26,
   "id": "vietnamese-marks",
   "metadata": {},
   "outputs": [],
   "source": [
    "big = pd.concat(dfs)"
   ]
  },
  {
   "cell_type": "code",
   "execution_count": 27,
   "id": "capable-gross",
   "metadata": {},
   "outputs": [],
   "source": [
    "def barplot(x, y, rotation=0):\n",
    "    plt.figure(figsize=(8, 8))\n",
    "    plt.bar(x, y)\n",
    "    # plt.plot(x, y, \".\", )\n",
    "    for cur_x, cur_y in zip(x, y): plt.annotate(round(cur_y, 3), (cur_x, cur_y+0.01))\n",
    "    _ = plt.xticks(x, y.index, rotation=rotation)\n",
    "    plt.ylim((0, 1))\n",
    "    plt.show()"
   ]
  },
  {
   "cell_type": "code",
   "execution_count": 28,
   "id": "viral-calcium",
   "metadata": {},
   "outputs": [
    {
     "name": "stdout",
     "output_type": "stream",
     "text": [
      "1. # unique pages annotated:\t2139\n"
     ]
    }
   ],
   "source": [
    "print(f\"1. # unique pages annotated:\\t{len(done)}\")"
   ]
  },
  {
   "cell_type": "code",
   "execution_count": 29,
   "id": "sticky-musical",
   "metadata": {},
   "outputs": [
    {
     "name": "stdout",
     "output_type": "stream",
     "text": [
      "3.1 # of annotations (= # rows in table):\t68429\n",
      "3.1 # of entity annotations (= # rows in table starting with 'T'):\t32203\n",
      "3.1 # of attribute annotations\t36226\n"
     ]
    }
   ],
   "source": [
    "print(f\"3.1 # of annotations (= # rows in table):\\t{big.shape[0]}\")\n",
    "n = big[big.index.get_level_values(1).str.startswith(\"T\")].shape[0]\n",
    "print(f\"3.1 # of entity annotations (= # rows in table starting with 'T'):\\t{n}\")\n",
    "print(f\"3.1 # of attribute annotations\\t{big.shape[0] - n}\")"
   ]
  },
  {
   "cell_type": "code",
   "execution_count": 30,
   "id": "victorian-purple",
   "metadata": {},
   "outputs": [
    {
     "name": "stdout",
     "output_type": "stream",
     "text": [
      "3.2 # tokens(!) in entity names:\t79837\n"
     ]
    }
   ],
   "source": [
    "# print(f\"# spans:\\t{(~big.span.isna()).sum()}\")\n",
    "\n",
    "print(f\"3.2 # tokens(!) in entity names:\\t{big.entity_name.fillna('').str.split().apply(len).sum()}\")"
   ]
  },
  {
   "cell_type": "code",
   "execution_count": 31,
   "id": "false-haven",
   "metadata": {},
   "outputs": [
    {
     "name": "stdout",
     "output_type": "stream",
     "text": [
      "\n",
      "3.3 NUMBER OF ENTITIES PER TYPE\n",
      "entity_type\n",
      "Organization     1080\n",
      "Person          11715\n",
      "Place            4510\n",
      "ProperName      14898\n",
      "dtype: int64\n",
      "\n",
      "3.3 PERCENTAGE OF ENTITIES OF TYPE\n",
      "entity_type\n",
      "Organization    0.033537\n",
      "Person          0.363786\n",
      "Place           0.140049\n",
      "ProperName      0.462628\n",
      "dtype: float64\n"
     ]
    },
    {
     "data": {
      "image/png": "[encoded data removed]",
      "text/plain": [
       "<Figure size 576x576 with 1 Axes>"
      ]
     },
     "metadata": {
      "needs_background": "light"
     },
     "output_type": "display_data"
    },
    {
     "name": "stdout",
     "output_type": "stream",
     "text": [
      "\n",
      "3.4 NUMBER OF TOKENS PER ENTITY TYPE\n",
      "entity_type\n",
      "Organization     4641\n",
      "Person          32644\n",
      "Place           10155\n",
      "ProperName      32397\n",
      "dtype: int64\n",
      "\n",
      "3.4 AVERAGE NUMBER OF TOKENS OF EACH ENTITY PER ENTITY TYPE\n",
      "entity_type\n",
      "Organization    4.297222\n",
      "Person          2.786513\n",
      "Place           2.251663\n",
      "ProperName      2.174587\n",
      "dtype: float64\n"
     ]
    }
   ],
   "source": [
    "ns = big.groupby(\"entity_type\").apply(lambda sub: (~sub.span.isna()).sum())\n",
    "\n",
    "print(\"\\n3.3 number of entities per type\".upper())\n",
    "print(ns)\n",
    "print()\n",
    "# print(big.groupby(\"entity_type\").apply(lambda sub: (~sub.span.isna()).sum())/sub.shape[0])\n",
    "print(\"3.3 percentage of entities of type\".upper())\n",
    "print((ns/ns.sum()))\n",
    "\n",
    "\n",
    "barplot([1,2,3, 4], (ns/ns.sum()))\n",
    "\n",
    "\n",
    "\n",
    "ns_toks = big.groupby(\"entity_type\").apply(lambda sub:\n",
    "                                     sub.entity_name.fillna('').str.split().apply(len).sum())\n",
    "\n",
    "print(\"\\n3.4 number of tokens per entity type\".upper())\n",
    "print(ns_toks)\n",
    "print(\"\\n3.4 average number of tokens of each entity per entity type\".upper())\n",
    "print(ns_toks/ns)"
   ]
  },
  {
   "cell_type": "code",
   "execution_count": 32,
   "id": "dependent-finance",
   "metadata": {},
   "outputs": [
    {
     "name": "stdout",
     "output_type": "stream",
     "text": [
      "4. BENEFICIARY\n",
      "No     918\n",
      "Yes    163\n",
      "Name: attr_val, dtype: int64\n",
      "\n",
      "No     0.849214\n",
      "Yes    0.150786\n",
      "Name: attr_val, dtype: float64\n"
     ]
    },
    {
     "data": {
      "image/png": "[encoded data removed]",
      "text/plain": [
       "<Figure size 576x576 with 1 Axes>"
      ]
     },
     "metadata": {
      "needs_background": "light"
     },
     "output_type": "display_data"
    },
    {
     "name": "stdout",
     "output_type": "stream",
     "text": [
      "\n",
      "4. GENDER\n",
      "Unspecified    5760\n",
      "Man            4303\n",
      "Woman          1232\n",
      "Group           420\n",
      "Name: attr_val, dtype: int64\n",
      "\n",
      "Unspecified    0.491677\n",
      "Man            0.367307\n",
      "Woman          0.105164\n",
      "Group          0.035851\n",
      "Name: attr_val, dtype: float64\n"
     ]
    },
    {
     "data": {
      "image/png": "[encoded data removed]",
      "text/plain": [
       "<Figure size 576x576 with 1 Axes>"
      ]
     },
     "metadata": {
      "needs_background": "light"
     },
     "output_type": "display_data"
    },
    {
     "name": "stdout",
     "output_type": "stream",
     "text": [
      "\n",
      "4. LEGALSTATUS\n",
      "Unspecified    10676\n",
      "Enslaved         885\n",
      "Freed            154\n",
      "Name: attr_val, dtype: int64\n",
      "\n",
      "Unspecified    0.911310\n",
      "Enslaved       0.075544\n",
      "Freed          0.013146\n",
      "Name: attr_val, dtype: float64\n"
     ]
    },
    {
     "data": {
      "image/png": "[encoded data removed]",
      "text/plain": [
       "<Figure size 576x576 with 1 Axes>"
      ]
     },
     "metadata": {
      "needs_background": "light"
     },
     "output_type": "display_data"
    },
    {
     "name": "stdout",
     "output_type": "stream",
     "text": [
      "\n",
      "4. ROLE\n",
      "Other                   5937\n",
      "Beneficiary             1830\n",
      "Testator                1289\n",
      "Witness                 1107\n",
      "Acting_Notary            801\n",
      "Notary                   473\n",
      "Testator_Beneficiary     278\n",
      "Name: attr_val, dtype: int64\n",
      "\n",
      "Other                   0.506786\n",
      "Beneficiary             0.156210\n",
      "Testator                0.110030\n",
      "Witness                 0.094494\n",
      "Acting_Notary           0.068374\n",
      "Notary                  0.040376\n",
      "Testator_Beneficiary    0.023730\n",
      "Name: attr_val, dtype: float64\n"
     ]
    },
    {
     "data": {
      "image/png": "[encoded data removed]",
      "text/plain": [
       "<Figure size 576x576 with 1 Axes>"
      ]
     },
     "metadata": {
      "needs_background": "light"
     },
     "output_type": "display_data"
    },
    {
     "name": "stdout",
     "output_type": "stream",
     "text": [
      "\n"
     ]
    }
   ],
   "source": [
    "for at, sub in big.groupby(\"attr_type\"):\n",
    "    print(f\"4. {at.upper()}\")\n",
    "    cs = sub.attr_val.value_counts()\n",
    "    print(cs)\n",
    "    print()\n",
    "    print(cs/cs.sum())\n",
    "    \n",
    "    barplot(list(range(1, cs.shape[0]+1)),\n",
    "           cs/cs.sum(), rotation=(360-35 if cs.shape[0] > 6 else 0))\n",
    "    \n",
    "    print()\n",
    "#     sub.attr_val.hist(bins=20)\n",
    "#     plt.title(at)\n",
    "#     plt.show()\n",
    "\n",
    "\n",
    "# big[big.attr_type == \"Role\"].attr_val.value_counts()"
   ]
  },
  {
   "cell_type": "code",
   "execution_count": null,
   "id": "leading-villa",
   "metadata": {},
   "outputs": [],
   "source": []
  },
  {
   "cell_type": "code",
   "execution_count": null,
   "id": "liable-description",
   "metadata": {},
   "outputs": [],
   "source": []
  },
  {
   "cell_type": "code",
   "execution_count": null,
   "id": "growing-prince",
   "metadata": {},
   "outputs": [],
   "source": []
  }
 ],
 "metadata": {
  "kernelspec": {
   "display_name": "Python 3 (ipykernel)",
   "language": "python",
   "name": "python3"
  },
  "language_info": {
   "codemirror_mode": {
    "name": "ipython",
    "version": 3
   },
   "file_extension": ".py",
   "mimetype": "text/x-python",
   "name": "python",
   "nbconvert_exporter": "python",
   "pygments_lexer": "ipython3",
   "version": "3.8.8"
  }
 },
 "nbformat": 4,
 "nbformat_minor": 5
}
