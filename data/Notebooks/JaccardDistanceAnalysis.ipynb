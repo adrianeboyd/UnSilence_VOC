{
 "cells": [
  {
   "cell_type": "code",
   "execution_count": 13,
   "id": "needed-january",
   "metadata": {},
   "outputs": [],
   "source": [
    "import os\n",
    "from glob import glob\n",
    "\n",
    "import pandas as pd\n",
    "\n",
    "import matplotlib.pyplot as plt\n",
    "import seaborn as sns"
   ]
  },
  {
   "cell_type": "markdown",
   "id": "secret-concrete",
   "metadata": {},
   "source": [
    "# Pairwise Intersections of Annotation Files"
   ]
  },
  {
   "cell_type": "code",
   "execution_count": 7,
   "id": "answering-myrtle",
   "metadata": {},
   "outputs": [
    {
     "ename": "AttributeError",
     "evalue": "'str' object has no attribute 'items'",
     "output_type": "error",
     "traceback": [
      "\u001b[0;31m---------------------------------------------------------------------------\u001b[0m",
      "\u001b[0;31mAttributeError\u001b[0m                            Traceback (most recent call last)",
      "\u001b[0;32m/var/folders/ng/ytjv1yf9043dlh66vwhtgr300000gn/T/ipykernel_33852/1887733695.py\u001b[0m in \u001b[0;36m<module>\u001b[0;34m\u001b[0m\n\u001b[1;32m      5\u001b[0m \u001b[0;34m\u001b[0m\u001b[0m\n\u001b[1;32m      6\u001b[0m \u001b[0mls\u001b[0m \u001b[0;34m=\u001b[0m \u001b[0;34m[\u001b[0m\u001b[0;34m]\u001b[0m\u001b[0;34m\u001b[0m\u001b[0;34m\u001b[0m\u001b[0m\n\u001b[0;32m----> 7\u001b[0;31m \u001b[0;32mfor\u001b[0m \u001b[0ma1\u001b[0m\u001b[0;34m,\u001b[0m \u001b[0mfs1\u001b[0m \u001b[0;32min\u001b[0m \u001b[0mannotated_data\u001b[0m\u001b[0;34m.\u001b[0m\u001b[0mitems\u001b[0m\u001b[0;34m(\u001b[0m\u001b[0;34m)\u001b[0m\u001b[0;34m:\u001b[0m\u001b[0;34m\u001b[0m\u001b[0;34m\u001b[0m\u001b[0m\n\u001b[0m\u001b[1;32m      8\u001b[0m     \u001b[0;32mfor\u001b[0m \u001b[0ma2\u001b[0m\u001b[0;34m,\u001b[0m \u001b[0mfs2\u001b[0m \u001b[0;32min\u001b[0m \u001b[0mkeep\u001b[0m\u001b[0;34m.\u001b[0m\u001b[0mitems\u001b[0m\u001b[0;34m(\u001b[0m\u001b[0;34m)\u001b[0m\u001b[0;34m:\u001b[0m\u001b[0;34m\u001b[0m\u001b[0;34m\u001b[0m\u001b[0m\n\u001b[1;32m      9\u001b[0m         \u001b[0;32mif\u001b[0m \u001b[0;32mnot\u001b[0m \u001b[0ma1\u001b[0m \u001b[0;34m==\u001b[0m \u001b[0ma2\u001b[0m\u001b[0;34m:\u001b[0m\u001b[0;34m\u001b[0m\u001b[0;34m\u001b[0m\u001b[0m\n",
      "\u001b[0;31mAttributeError\u001b[0m: 'str' object has no attribute 'items'"
     ]
    }
   ],
   "source": [
    "def only_names(file_list):\n",
    "    \"returns only names of files in a particular list\"\n",
    "    return [ann.split(\"/\")[-1] for txt, ann in file_list]\n",
    "\n",
    "\n",
    "ls = []\n",
    "for a1, fs1 in annotated_data.items():\n",
    "    for a2, fs2 in keep.items():\n",
    "        if not a1 == a2:\n",
    "            \n",
    "            names1, names2 = only_names(fs1), only_names(fs2)\n",
    "            inter = set(names1) & set(names2) #names of files are identical\n",
    "            val = len(inter)/len(names1)\n",
    "            \n",
    "            total_names1 = only_names(tup for ls in results[a1] for tup in ls)\n",
    "            total_names2 = only_names(tup for ls in results[a2] for tup in ls)\n",
    "            \n",
    "            total_inter = set(total_names1) & set(total_names2)\n",
    "            total_val = len(total_inter)/len(total_names1)\n",
    "    \n",
    "            jacc_val = len(set(names1).intersection(set(names2)))/len(set(names1).union(set(names2)))\n",
    "            jacc_val_2 = len(set(total_names1).intersection(set(total_names2)))/len(set(total_names1).union(set(total_names2)))\n",
    "            \n",
    "            \n",
    "            \n",
    "            ls.append([a1, a2, len(inter), val, \n",
    "                       len(total_inter), total_val, jacc_val, jacc_val_2])\n",
    "            \n",
    "            \n",
    "inter_stats = pd.DataFrame(ls, \n",
    "                           columns=[\"Annotator1\", \"Annotator2\", \n",
    "                                    \"Intersection\", \"normed_Intersection\",\n",
    "                                   \"total_Intersection\", \"total_normed_Intersection\", \"Jaccard_distance\", \"Jaccard_Distance_2\"])"
   ]
  },
  {
   "cell_type": "code",
   "execution_count": 11,
   "id": "micro-french",
   "metadata": {},
   "outputs": [],
   "source": [
    "# inter_stats"
   ]
  },
  {
   "cell_type": "markdown",
   "id": "referenced-gather",
   "metadata": {},
   "source": [
    "#### Jaccard Distance to Understand Overlap Pages between Annotators"
   ]
  },
  {
   "cell_type": "code",
   "execution_count": 12,
   "id": "hydraulic-arena",
   "metadata": {},
   "outputs": [
    {
     "data": {
      "image/png": "[encoded data removed]",
      "text/plain": [
       "<Figure size 432x288 with 2 Axes>"
      ]
     },
     "metadata": {
      "needs_background": "light"
     },
     "output_type": "display_data"
    }
   ],
   "source": [
    "import numpy as np \n",
    "# inter_stats_T = inter_stats.pivot_table(\n",
    "#                 values=\"Jaccard_distance\",\n",
    "#     index=\"Annotator1\", columns=\"Annotator2\"\n",
    "# )\n",
    "\n",
    "# sns.heatmap(inter_stats_T*100, annot=True, cmap=\"YlGnBu\")\n",
    "# _ = plt.title(\"Before Clean Up: Jaccard Distance (percentage)\")\n",
    "\n",
    "# plt.show()\n",
    "\n",
    "inter_stats_T = inter_stats.pivot_table(\n",
    "                values=\"Jaccard_Distance_2\",\n",
    "    index=\"Annotator1\", columns=\"Annotator2\"\n",
    ")\n",
    "\n",
    "matrix = np.triu(inter_stats_T)\n",
    "sns.heatmap(inter_stats_T*100, annot=True, cmap=\"YlGnBu\", mask=matrix)\n",
    "_ = plt.title(\"\")\n",
    "plt.yticks(rotation=0) \n",
    "plt.savefig('AnnotationOverlap.png')\n",
    "plt.show()\n",
    "\n",
    "\n",
    "# inter_stats_T = inter_stats.pivot_table(\n",
    "#                 values=\"Intersection\",\n",
    "#     index=\"Anno1\", columns=\"Anno2\"\n",
    "# )\n",
    "\n",
    "# sns.heatmap(inter_stats_T, \n",
    "#             annot=True, cmap=\"YlGnBu\")\n",
    "\n",
    "# _ = plt.title(\"Before Clean Up: Raw Counts\")"
   ]
  },
  {
   "cell_type": "markdown",
   "id": "further-budget",
   "metadata": {},
   "source": [
    "**Conclusion**: Each pair of annotators annotated on average have 6% overlap (over the total documents they annotated together)."
   ]
  },
  {
   "cell_type": "markdown",
   "id": "behind-recipient",
   "metadata": {},
   "source": [
    "## Check Tag Distributions"
   ]
  },
  {
   "cell_type": "code",
   "execution_count": 13,
   "id": "governmental-garden",
   "metadata": {},
   "outputs": [],
   "source": [
    "def get_lines(ann_file):\n",
    "    with open(ann_file) as handle:\n",
    "        for l in handle:\n",
    "            if not l.strip(): continue\n",
    "            yield l.strip().split(\"\\t\")\n",
    "\n",
    "def get_entities(ann_file):\n",
    "    for line in get_lines(ann_file):\n",
    "        if line[0].startswith(\"T\") and len(line) >= 2:\n",
    "            tag_type, tag, string = line\n",
    "            yield tag.split()[0]\n",
    "\n",
    "\n",
    "        \n",
    "ents = {a: [e for txt, ann in files for e in get_entities(ann)]\n",
    "       for a, files in keep.items()}"
   ]
  },
  {
   "cell_type": "code",
   "execution_count": 14,
   "id": "adjusted-african",
   "metadata": {},
   "outputs": [
    {
     "data": {
      "image/png": "[encoded data removed]",
      "text/plain": [
       "<Figure size 720x504 with 1 Axes>"
      ]
     },
     "metadata": {
      "needs_background": "light"
     },
     "output_type": "display_data"
    }
   ],
   "source": [
    "from collections import Counter\n",
    "\n",
    "entity_stats = pd.DataFrame(\n",
    "    [[a, e, c] for a in ents for e, c in Counter(ents[a]).items() if not e in [\"DuplicatePage\", \"Noteworthy\", \"TranscriptionError_Document\"]],\n",
    "    columns=[\"Annotator\", \"EntityType\", \"Count\"]\n",
    ")\n",
    "\n",
    "\n",
    "\n",
    "plt.figure(figsize=(10, 7))\n",
    "_ = sns.barplot(data=entity_stats, x='Annotator', y=\"Count\", hue=\"EntityType\")"
   ]
  },
  {
   "cell_type": "markdown",
   "id": "gothic-oxford",
   "metadata": {},
   "source": [
    "**Conclusion**: \n",
    "Here we see that most annotators follow a similar trend in entities annotated, only annotator who stands out is '3'."
   ]
  }
 ],
 "metadata": {
  "kernelspec": {
   "display_name": "Python 3 (ipykernel)",
   "language": "python",
   "name": "python3"
  },
  "language_info": {
   "codemirror_mode": {
    "name": "ipython",
    "version": 3
   },
   "file_extension": ".py",
   "mimetype": "text/x-python",
   "name": "python",
   "nbconvert_exporter": "python",
   "pygments_lexer": "ipython3",
   "version": "3.8.8"
  }
 },
 "nbformat": 4,
 "nbformat_minor": 5
}
