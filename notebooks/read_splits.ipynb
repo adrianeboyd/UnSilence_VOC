{
 "cells": [
  {
   "cell_type": "code",
   "execution_count": 7,
   "metadata": {},
   "outputs": [],
   "source": [
    "import os\n",
    "import csv\n",
    "import _pickle as pickle\n"
   ]
  },
  {
   "cell_type": "code",
   "execution_count": 3,
   "metadata": {},
   "outputs": [],
   "source": [
    "def read_annotations():\n",
    "    paths_by_split = {}\n",
    "    for split in ['train', 'dev', 'test']:\n",
    "        paths_by_split[split] = []\n",
    "        with open(os.path.join('..', 'processed_data', f'{split}-nl.tsv'), 'r', encoding='utf-8') as file_handler:\n",
    "            reader = csv.DictReader(file_handler, dialect=csv.excel_tab, quoting=csv.QUOTE_NONE)\n",
    "\n",
    "            for row in reader:\n",
    "                token = row['TOKEN']\n",
    "                if not token.startswith('# document_path'):\n",
    "                    continue\n",
    "\n",
    "                paths_by_split[split].append(token.split('# document_path = ')[-1])\n",
    "\n",
    "    return paths_by_split"
   ]
  },
  {
   "cell_type": "code",
   "execution_count": 4,
   "metadata": {},
   "outputs": [],
   "source": [
    "paths_by_split = read_annotations()"
   ]
  },
  {
   "cell_type": "code",
   "execution_count": 8,
   "metadata": {},
   "outputs": [],
   "source": [
    "with open('paths_by_split.pickle', 'wb') as handle:\n",
    "    pickle.dump(paths_by_split, handle, protocol=-1)"
   ]
  },
  {
   "cell_type": "code",
   "execution_count": null,
   "metadata": {},
   "outputs": [],
   "source": []
  }
 ],
 "metadata": {
  "interpreter": {
   "hash": "8b75f3199d40dc5b32c50d7e73d50b0653ef4e42fc29a92d9ddb9ff9d4b03964"
  },
  "kernelspec": {
   "display_name": "Python 3.9.7 64-bit ('ocr': conda)",
   "language": "python",
   "name": "python3"
  },
  "language_info": {
   "codemirror_mode": {
    "name": "ipython",
    "version": 3
   },
   "file_extension": ".py",
   "mimetype": "text/x-python",
   "name": "python",
   "nbconvert_exporter": "python",
   "pygments_lexer": "ipython3",
   "version": "3.9.7"
  },
  "orig_nbformat": 4
 },
 "nbformat": 4,
 "nbformat_minor": 2
}
