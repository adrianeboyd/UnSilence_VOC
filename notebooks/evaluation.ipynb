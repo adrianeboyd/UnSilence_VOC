{
 "cells": [
  {
   "cell_type": "code",
   "execution_count": 2,
   "metadata": {},
   "outputs": [],
   "source": [
    "import os\n",
    "\n",
    "from sklearn.metrics import cohen_kappa_score\n",
    "import itertools\n",
    "\n",
    "from collections import defaultdict\n",
    "\n",
    "import re\n",
    "\n",
    "import numpy as np"
   ]
  },
  {
   "cell_type": "code",
   "execution_count": 3,
   "metadata": {},
   "outputs": [],
   "source": [
    "DATA_PATH = os.path.join('..', 'data_2', 'Keep')"
   ]
  },
  {
   "cell_type": "code",
   "execution_count": 4,
   "metadata": {},
   "outputs": [],
   "source": [
    "doc_annotations = {}\n",
    "text_lengths = {}\n",
    "\n",
    "for author_folder in os.listdir(DATA_PATH):\n",
    "    full_path = os.path.join(DATA_PATH, author_folder)\n",
    "    ann_files = list(filter(lambda x: x.endswith('.ann'), os.listdir(full_path)))\n",
    "    for filename in ann_files:\n",
    "        doc_name = os.path.splitext(filename)[0]\n",
    "        if doc_name not in doc_annotations.keys():\n",
    "            doc_annotations[doc_name] = {}\n",
    "\n",
    "        if author_folder in doc_annotations[doc_name].keys():\n",
    "            raise Exception(f'Author \"{author_folder}\" has duplicated annotation for document \"{doc_name}\"')\n",
    "\n",
    "        with open(os.path.join(full_path, filename), 'r') as file_handler:\n",
    "            doc_annotations[doc_name][author_folder] = file_handler.read()\n",
    "\n",
    "        if doc_name not in text_lengths.keys():\n",
    "            with open(os.path.join(full_path, f'{doc_name}.txt'), 'r') as txt_file_handler:\n",
    "                text_lengths[doc_name] = len(txt_file_handler.read())"
   ]
  },
  {
   "cell_type": "code",
   "execution_count": 5,
   "metadata": {},
   "outputs": [],
   "source": [
    "valid_annotations = {\n",
    "    k: v for k, v in doc_annotations.items()\n",
    "    if len(v.keys()) > 1\n",
    "}"
   ]
  },
  {
   "cell_type": "code",
   "execution_count": 6,
   "metadata": {},
   "outputs": [],
   "source": [
    "def process_annotations(annotations_str: str, text_length: int):\n",
    "    result = ['O' for _ in range(text_length)]\n",
    "    # entities_positions = {}\n",
    "\n",
    "    annotations = annotations_str.split('\\n')\n",
    "    for annotation in annotations:\n",
    "        annotation_parts = annotation.split('\\t')\n",
    "        if not re.search('([T]{1}[0-9]+)', annotation_parts[0]): continue\n",
    "\n",
    "        if len(annotation_parts) < 2: print(annotation_parts)\n",
    "        split_annotation = annotation_parts[1].split(' ')\n",
    "        label = split_annotation[0]\n",
    "        current_annotations_parts = ' '.join(split_annotation[1:]).split(';')\n",
    "        for current_annotations_part in current_annotations_parts:\n",
    "            current_annotations = current_annotations_part.split(' ')\n",
    "            if len(current_annotations) > 3: print(current_annotations)\n",
    "\n",
    "            start_pos, end_pos = current_annotations\n",
    "            for i in range(int(start_pos), int(end_pos)):\n",
    "                result[i] = label\n",
    "\n",
    "    return result"
   ]
  },
  {
   "cell_type": "code",
   "execution_count": 14,
   "metadata": {},
   "outputs": [],
   "source": [
    "comparisons = {}\n",
    "\n",
    "for doc_key, annotations_per_author in valid_annotations.items():\n",
    "    processed_annotations_per_author = {}\n",
    "    for author, annotations in annotations_per_author.items():\n",
    "        processed_annotations_per_author[author] = process_annotations(annotations, text_lengths[doc_key])\n",
    "        if author not in comparisons.keys():\n",
    "            comparisons[author] = {}\n",
    "\n",
    "    authors = list(processed_annotations_per_author.keys())\n",
    "    for author_1, author_2 in itertools.product(authors, authors):\n",
    "        if author_1 == author_2: \n",
    "            kappa = 0\n",
    "        else:\n",
    "            kappa = cohen_kappa_score(\n",
    "                processed_annotations_per_author[author_1],\n",
    "                processed_annotations_per_author[author_2])\n",
    "\n",
    "        if author_1 not in comparisons.keys():\n",
    "            comparisons[author_1] = defaultdict(list)\n",
    "\n",
    "        if author_2 not in comparisons[author_1].keys():\n",
    "            comparisons[author_1][author_2] = []\n",
    "\n",
    "        comparisons[author_1][author_2].append(kappa)\n",
    "\n",
    "        if author_2 not in comparisons.keys():\n",
    "            comparisons[author_2] = defaultdict(list)\n",
    "\n",
    "        if author_1 not in comparisons[author_2].keys():\n",
    "            comparisons[author_2][author_1] = []\n",
    "\n",
    "        comparisons[author_2][author_1].append(kappa)\n"
   ]
  },
  {
   "cell_type": "code",
   "execution_count": 24,
   "metadata": {},
   "outputs": [
    {
     "name": "stdout",
     "output_type": "stream",
     "text": [
      "\tBert\tSilja\tJonas\tEmma\tRoos\tYolien\n",
      "Bert\t0.0\t0.63\t0.55\t0.65\t0.44\t0.55\t\n",
      "Silja\t0.63\t0.0\t0.65\t0.58\t0.52\t0.59\t\n",
      "Jonas\t0.55\t0.65\t0.0\t0.57\t0.52\t0.54\t\n",
      "Emma\t0.65\t0.58\t0.57\t0.0\t0.72\t0.6\t\n",
      "Roos\t0.44\t0.52\t0.52\t0.72\t0.0\t0.53\t\n",
      "Yolien\t0.55\t0.59\t0.54\t0.6\t0.53\t0.0\t\n"
     ]
    }
   ],
   "source": [
    "names = list(comparisons.keys())\n",
    "print('\\t', end='')\n",
    "print('\\t'.join(names))\n",
    "for author_1 in names:\n",
    "    print(author_1, end='\\t')\n",
    "    for author_2 in names:\n",
    "        print(round(np.mean(comparisons[author_1][author_2]), 2), end='\\t')\n",
    "\n",
    "    print()"
   ]
  },
  {
   "cell_type": "code",
   "execution_count": null,
   "metadata": {},
   "outputs": [],
   "source": []
  }
 ],
 "metadata": {
  "interpreter": {
   "hash": "8b75f3199d40dc5b32c50d7e73d50b0653ef4e42fc29a92d9ddb9ff9d4b03964"
  },
  "kernelspec": {
   "display_name": "Python 3.9.7 64-bit ('ocr': conda)",
   "language": "python",
   "name": "python3"
  },
  "language_info": {
   "codemirror_mode": {
    "name": "ipython",
    "version": 3
   },
   "file_extension": ".py",
   "mimetype": "text/x-python",
   "name": "python",
   "nbconvert_exporter": "python",
   "pygments_lexer": "ipython3",
   "version": "3.9.7"
  },
  "orig_nbformat": 4
 },
 "nbformat": 4,
 "nbformat_minor": 2
}
